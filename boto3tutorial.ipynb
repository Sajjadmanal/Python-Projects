{
 "cells": [
  {
   "cell_type": "code",
   "execution_count": 30,
   "metadata": {},
   "outputs": [],
   "source": [
    "## https://realpython.com/python-boto3-aws-s3/ ##"
   ]
  },
  {
   "cell_type": "code",
   "execution_count": 1,
   "metadata": {},
   "outputs": [],
   "source": [
    "import boto3 \n",
    "ACCESS_ID = 'xxx' \n",
    "ACCESS_KEY = 'xxx'\n",
    "s3_resource = boto3.resource('s3', aws_access_key_id=ACCESS_ID,\n",
    "                             aws_secret_access_key= ACCESS_KEY)"
   ]
  },
  {
   "cell_type": "code",
   "execution_count": 2,
   "metadata": {},
   "outputs": [],
   "source": [
    "#Generate unique bucket name\n",
    "\n",
    "import uuid\n",
    "def create_bucket_name(bucket_prefix):\n",
    "    # The generated bucket name must be between 3 and 63 chars long\n",
    "    return ''.join([bucket_prefix, str(uuid.uuid4())])"
   ]
  },
  {
   "cell_type": "code",
   "execution_count": 5,
   "metadata": {},
   "outputs": [],
   "source": [
    "first_bucket_name = s3_resource.create_bucket(Bucket=create_bucket_name('firstpythonbucket'), \n",
    "                                                              CreateBucketConfiguration={'LocationConstraint': 'ap-south-1'})"
   ]
  },
  {
   "cell_type": "code",
   "execution_count": 12,
   "metadata": {},
   "outputs": [],
   "source": [
    "first_bucket_name = first_bucket_name.name "
   ]
  },
  {
   "cell_type": "code",
   "execution_count": 32,
   "metadata": {},
   "outputs": [],
   "source": [
    "#Creating files \n",
    "\n",
    "def create_temp_file(size, file_name, file_content):\n",
    "    random_file_name = ''.join([str(uuid.uuid4().hex[:6]), file_name])\n",
    "    with open(random_file_name, 'w') as f:\n",
    "        f.write(str(file_content) * size)\n",
    "    return random_file_name"
   ]
  },
  {
   "cell_type": "code",
   "execution_count": 14,
   "metadata": {},
   "outputs": [],
   "source": [
    "first_file_name = create_temp_file(300, 'firstfile.txt', 'f')   "
   ]
  },
  {
   "cell_type": "code",
   "execution_count": 21,
   "metadata": {},
   "outputs": [],
   "source": [
    "first_bucket = s3_resource.Bucket(name=first_bucket_name)\n",
    "first_object = s3_resource.Object(\n",
    "    bucket_name=first_bucket_name, key=first_file_name)"
   ]
  },
  {
   "cell_type": "code",
   "execution_count": 22,
   "metadata": {},
   "outputs": [
    {
     "name": "stdout",
     "output_type": "stream",
     "text": [
      "s3.Bucket(name='firstpythonbucket9d764cd5-34ca-42b3-b849-ab7bb2accb51')\n",
      "s3.Object(bucket_name='firstpythonbucket9d764cd5-34ca-42b3-b849-ab7bb2accb51', key='c62c12firstfile.txt')\n"
     ]
    }
   ],
   "source": [
    "print(first_bucket)\n",
    "print(first_object)"
   ]
  },
  {
   "cell_type": "code",
   "execution_count": 23,
   "metadata": {},
   "outputs": [],
   "source": [
    "#Creating similar sub-resources\n",
    "first_bucket_again = first_object.Bucket()\n",
    "first_object_again = first_bucket.Object(first_file_name)"
   ]
  },
  {
   "cell_type": "code",
   "execution_count": 24,
   "metadata": {},
   "outputs": [
    {
     "name": "stdout",
     "output_type": "stream",
     "text": [
      "s3.Bucket(name='firstpythonbucket9d764cd5-34ca-42b3-b849-ab7bb2accb51')\n",
      "s3.Object(bucket_name='firstpythonbucket9d764cd5-34ca-42b3-b849-ab7bb2accb51', key='c62c12firstfile.txt')\n"
     ]
    }
   ],
   "source": [
    "print(first_bucket_again)\n",
    "print(first_object_again)"
   ]
  },
  {
   "cell_type": "code",
   "execution_count": 33,
   "metadata": {},
   "outputs": [],
   "source": [
    "#Uploading files\n",
    "first_object.upload_file(first_file_name)"
   ]
  },
  {
   "cell_type": "code",
   "execution_count": 34,
   "metadata": {},
   "outputs": [],
   "source": [
    "first_bucket.upload_file(\n",
    "    Filename=first_file_name, Key=first_file_name)"
   ]
  },
  {
   "cell_type": "code",
   "execution_count": 39,
   "metadata": {},
   "outputs": [],
   "source": [
    "#downloadng a file\n",
    "s3_resource.Object(first_bucket_name, first_file_name).download_file(\n",
    "    f'download/{first_file_name}')"
   ]
  },
  {
   "cell_type": "code",
   "execution_count": 40,
   "metadata": {},
   "outputs": [],
   "source": [
    "#Copying from one bucket to other\n",
    "def copy_to_bucket(bucket_from_name, bucket_to_name, file_name):\n",
    "    copy_source = {\n",
    "        'Bucket': bucket_from_name,\n",
    "        'Key': file_name\n",
    "    }\n",
    "    s3_resource.Object(bucket_to_name, file_name).copy(copy_source)\n",
    "\n",
    "copy_to_bucket(first_bucket_name, second_bucket_name, first_file_name)"
   ]
  },
  {
   "cell_type": "code",
   "execution_count": null,
   "metadata": {},
   "outputs": [],
   "source": [
    "#Deleting object\n",
    "s3_resource.Object(second_bucket_name, first_file_name).delete()\n"
   ]
  },
  {
   "cell_type": "code",
   "execution_count": 41,
   "metadata": {},
   "outputs": [],
   "source": [
    "#ACL (Access Control List)\n",
    "second_file_name = create_temp_file(400, 'secondfile.txt', 's')\n",
    "second_object = s3_resource.Object(first_bucket.name, second_file_name)\n",
    "second_object.upload_file(second_file_name, ExtraArgs={\n",
    "                          'ACL': 'public-read'})"
   ]
  },
  {
   "cell_type": "code",
   "execution_count": null,
   "metadata": {},
   "outputs": [],
   "source": [
    "#making object private\n",
    "response = second_object_acl.put(ACL='private')\n",
    "second_object_acl.grants"
   ]
  },
  {
   "cell_type": "code",
   "execution_count": 43,
   "metadata": {},
   "outputs": [],
   "source": [
    "#Upload with Encryption\n",
    "\n",
    "third_file_name = create_temp_file(300, 'thirdfile.txt', 't')\n",
    "third_object = s3_resource.Object(first_bucket_name, third_file_name)\n",
    "third_object.upload_file(third_file_name, ExtraArgs={\n",
    "                         'ServerSideEncryption': 'AES256'})"
   ]
  },
  {
   "cell_type": "code",
   "execution_count": 44,
   "metadata": {},
   "outputs": [
    {
     "data": {
      "text/plain": [
       "'AES256'"
      ]
     },
     "execution_count": 44,
     "metadata": {},
     "output_type": "execute_result"
    }
   ],
   "source": [
    "third_object.server_side_encryption"
   ]
  },
  {
   "cell_type": "code",
   "execution_count": 47,
   "metadata": {},
   "outputs": [],
   "source": [
    "#Versoning\n",
    "\n",
    "def enable_bucket_versioning(bucket_name):\n",
    "    bkt_versioning = s3_resource.BucketVersioning(bucket_name)\n",
    "    bkt_versioning.enable()\n",
    "    print(bkt_versioning.status)"
   ]
  },
  {
   "cell_type": "code",
   "execution_count": 48,
   "metadata": {},
   "outputs": [
    {
     "name": "stdout",
     "output_type": "stream",
     "text": [
      "Enabled\n"
     ]
    }
   ],
   "source": [
    "enable_bucket_versioning(first_bucket_name)"
   ]
  },
  {
   "cell_type": "code",
   "execution_count": 49,
   "metadata": {},
   "outputs": [],
   "source": [
    "s3_resource.Object(first_bucket_name, first_file_name).upload_file(\n",
    "   first_file_name)\n",
    "s3_resource.Object(first_bucket_name, first_file_name).upload_file(\n",
    "   third_file_name)"
   ]
  },
  {
   "cell_type": "code",
   "execution_count": 50,
   "metadata": {},
   "outputs": [],
   "source": [
    "s3_resource.Object(first_bucket_name, second_file_name).upload_file(\n",
    "    second_file_name)"
   ]
  },
  {
   "cell_type": "code",
   "execution_count": 51,
   "metadata": {},
   "outputs": [
    {
     "data": {
      "text/plain": [
       "'3eGR5UJQk962WhfRc0prR5EKnbYjo.4n'"
      ]
     },
     "execution_count": 51,
     "metadata": {},
     "output_type": "execute_result"
    }
   ],
   "source": [
    "s3_resource.Object(first_bucket_name, first_file_name).version_id"
   ]
  },
  {
   "cell_type": "code",
   "execution_count": 52,
   "metadata": {},
   "outputs": [
    {
     "name": "stdout",
     "output_type": "stream",
     "text": [
      "firstpythonbucket9d764cd5-34ca-42b3-b849-ab7bb2accb51\n"
     ]
    }
   ],
   "source": [
    "#bucket traversal\n",
    "for bucket in s3_resource.buckets.all():\n",
    "    print(bucket.name)"
   ]
  },
  {
   "cell_type": "code",
   "execution_count": 53,
   "metadata": {},
   "outputs": [
    {
     "name": "stdout",
     "output_type": "stream",
     "text": [
      "1b177esecondfile.txt\n",
      "c62c12firstfile.txt\n",
      "f04694thirdfile.txt\n"
     ]
    }
   ],
   "source": [
    "#object traversal\n",
    "for obj in first_bucket.objects.all():\n",
    "    print(obj.key)"
   ]
  },
  {
   "cell_type": "code",
   "execution_count": 54,
   "metadata": {},
   "outputs": [
    {
     "name": "stdout",
     "output_type": "stream",
     "text": [
      "1b177esecondfile.txt STANDARD 2019-07-09 06:41:16+00:00 bwDMbrN86BoQR3B6QuC2DfwIGDFVN3sa {}\n",
      "c62c12firstfile.txt STANDARD 2019-07-09 06:40:28+00:00 3eGR5UJQk962WhfRc0prR5EKnbYjo.4n {}\n",
      "f04694thirdfile.txt STANDARD 2019-07-09 06:35:42+00:00 null {}\n"
     ]
    }
   ],
   "source": [
    "#Object Summary\n",
    "\n",
    "for obj in first_bucket.objects.all():\n",
    "    subsrc = obj.Object()\n",
    "    print(obj.key, obj.storage_class, obj.last_modified,\n",
    "          subsrc.version_id, subsrc.metadata)"
   ]
  },
  {
   "cell_type": "code",
   "execution_count": 55,
   "metadata": {},
   "outputs": [],
   "source": [
    "#deleting Non-empty buckets\n",
    "\n",
    "def delete_all_objects(bucket_name):\n",
    "    res = []\n",
    "    bucket=s3_resource.Bucket(bucket_name)\n",
    "    for obj_version in bucket.object_versions.all():\n",
    "        res.append({'Key': obj_version.object_key,\n",
    "                    'VersionId': obj_version.id})\n",
    "    print(res)\n",
    "    bucket.delete_objects(Delete={'Objects': res})\n",
    "delete_all_objects(first_bucket_name)"
   ]
  },
  {
   "cell_type": "code",
   "execution_count": null,
   "metadata": {},
   "outputs": [],
   "source": [
    "#Deleting Bucket\n",
    "\n",
    "s3_resource.Bucket(first_bucket_name).delete()"
   ]
  },
  {
   "cell_type": "code",
   "execution_count": null,
   "metadata": {},
   "outputs": [],
   "source": []
  }
 ],
 "metadata": {
  "kernelspec": {
   "display_name": "Python 3",
   "language": "python",
   "name": "python3"
  },
  "language_info": {
   "codemirror_mode": {
    "name": "ipython",
    "version": 3
   },
   "file_extension": ".py",
   "mimetype": "text/x-python",
   "name": "python",
   "nbconvert_exporter": "python",
   "pygments_lexer": "ipython3",
   "version": "3.7.3"
  }
 },
 "nbformat": 4,
 "nbformat_minor": 2
}
